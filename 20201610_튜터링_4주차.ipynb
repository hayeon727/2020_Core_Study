{
  "nbformat": 4,
  "nbformat_minor": 0,
  "metadata": {
    "colab": {
      "name": "20201610_튜터링_4주차.ipynb",
      "provenance": [],
      "authorship_tag": "ABX9TyNrH6xWMR7W/FAanIZ3RMAd",
      "include_colab_link": true
    },
    "kernelspec": {
      "name": "python3",
      "display_name": "Python 3"
    }
  },
  "cells": [
    {
      "cell_type": "markdown",
      "metadata": {
        "id": "view-in-github",
        "colab_type": "text"
      },
      "source": [
        "<a href=\"https://colab.research.google.com/github/hayeon727/2020_Core_Study/blob/main/20201610_%ED%8A%9C%ED%84%B0%EB%A7%81_4%EC%A3%BC%EC%B0%A8.ipynb\" target=\"_parent\"><img src=\"https://colab.research.google.com/assets/colab-badge.svg\" alt=\"Open In Colab\"/></a>"
      ]
    },
    {
      "cell_type": "code",
      "metadata": {
        "id": "gTp5YPa8EZqd",
        "outputId": "5c7c06ab-22fb-418b-b608-ff6a14192e40",
        "colab": {
          "base_uri": "https://localhost:8080/",
          "height": 35
        }
      },
      "source": [
        "lists = [[0,0,0,0,0],\n",
        "         [0,0,0,0,0],\n",
        "         [0,0,0,0,0],\n",
        "         [0,0,0,0,0],\n",
        "         [0,0,0,0,0]]\n",
        "\n",
        "print(lists)"
      ],
      "execution_count": 2,
      "outputs": [
        {
          "output_type": "stream",
          "text": [
            "[[0, 0, 0, 0, 0], [0, 0, 0, 0, 0], [0, 0, 0, 0, 0], [0, 0, 0, 0, 0], [0, 0, 0, 0, 0]]\n"
          ],
          "name": "stdout"
        }
      ]
    },
    {
      "cell_type": "code",
      "metadata": {
        "id": "Wj-Ea_JPH5Bz",
        "outputId": "98ec1720-bbb5-489b-9deb-745478046839",
        "colab": {
          "base_uri": "https://localhost:8080/",
          "height": 197
        }
      },
      "source": [
        "lists = []\n",
        "for i in range(0,5,1):\n",
        "  a = []\n",
        "  for j in range(0,5,1):\n",
        "    a.append(0)\n",
        "  lists.append(a)\n",
        "\n",
        "print_doublelist(lists)\n",
        "\n",
        "lists[2][2] = 1\n",
        "print_doublelist(lists)"
      ],
      "execution_count": 19,
      "outputs": [
        {
          "output_type": "stream",
          "text": [
            "0 0 0 0 0 \n",
            "0 0 0 0 0 \n",
            "0 0 0 0 0 \n",
            "0 0 0 0 0 \n",
            "0 0 0 0 0 \n",
            "0 0 0 0 0 \n",
            "0 0 0 0 0 \n",
            "0 0 1 0 0 \n",
            "0 0 0 0 0 \n",
            "0 0 0 0 0 \n"
          ],
          "name": "stdout"
        }
      ]
    },
    {
      "cell_type": "code",
      "metadata": {
        "id": "vVHoHnISIJsx",
        "outputId": "bd206964-5969-4bdd-a6f7-0ce87b5e154a",
        "colab": {
          "base_uri": "https://localhost:8080/",
          "height": 197
        }
      },
      "source": [
        "lists = []\n",
        "for i in range(0,5,1):\n",
        "  a = []\n",
        "  for j in range(0,5,1):\n",
        "    a.append(0)\n",
        "  lists.append(a)\n",
        "\n",
        "print_doublelist(lists)\n",
        "\n",
        "lists[3][3] = 8\n",
        "print_doublelist(lists)"
      ],
      "execution_count": 20,
      "outputs": [
        {
          "output_type": "stream",
          "text": [
            "0 0 0 0 0 \n",
            "0 0 0 0 0 \n",
            "0 0 0 0 0 \n",
            "0 0 0 0 0 \n",
            "0 0 0 0 0 \n",
            "0 0 0 0 0 \n",
            "0 0 0 0 0 \n",
            "0 0 0 0 0 \n",
            "0 0 0 8 0 \n",
            "0 0 0 0 0 \n"
          ],
          "name": "stdout"
        }
      ]
    },
    {
      "cell_type": "code",
      "metadata": {
        "id": "EEJK7mhNJvJ1",
        "outputId": "28c3d492-3ab6-48e0-b494-7577d08706c0",
        "colab": {
          "base_uri": "https://localhost:8080/",
          "height": 53
        }
      },
      "source": [
        "# 움직이는 것을 구현\n",
        "# 내가 지금 있는 위치 -> (y,x)\n",
        "y = 2\n",
        "x = 2\n",
        "\n",
        "dir = input(\"방향을 입력하세요 : \")\n",
        "\n",
        "# 왼쪽으로 1칸\n",
        "if dir == \"왼쪽\":\n",
        "  x = x - 1\n",
        "\n",
        "# 오른쪽으로 1칸\n",
        "elif dir ==\"오른쪽\":\n",
        "  x = x + 1\n",
        "\n",
        "# 위로 1칸\n",
        "elif dir == \"위쪽\":\n",
        "  y = y - 1\n",
        "\n",
        "# 아래로 1칸\n",
        "else:\n",
        "  y = y + 1\n",
        "\n",
        "\n",
        "print(y,x)"
      ],
      "execution_count": 10,
      "outputs": [
        {
          "output_type": "stream",
          "text": [
            "방향을 입력하세요 : 오른쪽\n",
            "2 3\n"
          ],
          "name": "stdout"
        }
      ]
    },
    {
      "cell_type": "code",
      "metadata": {
        "id": "P6ewfZZdLWnT"
      },
      "source": [
        "def print_doublelist(lists):\n",
        "  print(\"이중 리스트를 출력합니다.\")\n",
        "  for i in range(0,5,1):\n",
        "    for j in range(0,5,1):\n",
        "      print(lists[i][j], end=\" \")\n",
        "    print()\n",
        "  print(\"이중 리스트의 출력이 끝났습니다.\")\n",
        "  print()\n"
      ],
      "execution_count": 23,
      "outputs": []
    },
    {
      "cell_type": "code",
      "metadata": {
        "id": "CmhH3RD4OB04",
        "outputId": "1200dc86-613e-4a05-af54-bc63e1d229cb",
        "colab": {
          "base_uri": "https://localhost:8080/",
          "height": 161
        }
      },
      "source": [
        "print_doublelist(lists)"
      ],
      "execution_count": 24,
      "outputs": [
        {
          "output_type": "stream",
          "text": [
            "이중 리스트를 출력합니다.\n",
            "0 0 0 0 0 \n",
            "0 0 0 0 0 \n",
            "0 0 0 0 0 \n",
            "0 0 0 8 0 \n",
            "0 0 0 0 0 \n",
            "이중 리스트의 출력이 끝났습니다.\n",
            "\n"
          ],
          "name": "stdout"
        }
      ]
    },
    {
      "cell_type": "code",
      "metadata": {
        "id": "M239sr8kOFnG",
        "outputId": "005d0988-5ef2-4e59-bf8a-019977517e4c",
        "colab": {
          "base_uri": "https://localhost:8080/",
          "height": 305
        }
      },
      "source": [
        "lists = []\n",
        "for i in range(0,5,1):\n",
        "  a = []\n",
        "  for j in range(0,5,1):\n",
        "    a.append(0)\n",
        "  lists.append(a)\n",
        "\n",
        "print_doublelist(lists)\n",
        "\n",
        "lists[2][2] = 1\n",
        "print_doublelist(lists)"
      ],
      "execution_count": 25,
      "outputs": [
        {
          "output_type": "stream",
          "text": [
            "이중 리스트를 출력합니다.\n",
            "0 0 0 0 0 \n",
            "0 0 0 0 0 \n",
            "0 0 0 0 0 \n",
            "0 0 0 0 0 \n",
            "0 0 0 0 0 \n",
            "이중 리스트의 출력이 끝났습니다.\n",
            "\n",
            "이중 리스트를 출력합니다.\n",
            "0 0 0 0 0 \n",
            "0 0 0 0 0 \n",
            "0 0 1 0 0 \n",
            "0 0 0 0 0 \n",
            "0 0 0 0 0 \n",
            "이중 리스트의 출력이 끝났습니다.\n",
            "\n"
          ],
          "name": "stdout"
        }
      ]
    },
    {
      "cell_type": "code",
      "metadata": {
        "id": "jpZttMUYQY_-",
        "outputId": "3f2d7f27-f9b9-4485-d355-acfd7e1e2996",
        "colab": {
          "base_uri": "https://localhost:8080/",
          "height": 197
        }
      },
      "source": [
        "# 움직이는 것을 구현\n",
        "# 내가 지금 있는 위치 -> (y,x)\n",
        "y = 2\n",
        "x = 2\n",
        "\n",
        "dir = input(\"방향을 입력하세요 : \")\n",
        "\n",
        "lists[y][x] = 0 #이동 전 위치의 좌표 0\n",
        "\n",
        "# 왼쪽으로 1칸\n",
        "if dir == \"왼쪽\":\n",
        "  x = x - 1\n",
        "\n",
        "# 오른쪽으로 1칸\n",
        "elif dir ==\"오른쪽\":\n",
        "  x = x + 1\n",
        "\n",
        "# 위로 1칸\n",
        "elif dir == \"위쪽\":\n",
        "  y = y - 1\n",
        "\n",
        "# 아래로 1칸\n",
        "else:\n",
        "  y = y + 1\n",
        "\n",
        "\n",
        "print(y,x)\n",
        "\n",
        "lists[y][x] = 1 #이동한 위치의 좌표 1\n",
        "\n",
        "print_doublelist(lists)"
      ],
      "execution_count": 29,
      "outputs": [
        {
          "output_type": "stream",
          "text": [
            "방향을 입력하세요 : 아래쪽\n",
            "3 2\n",
            "이중 리스트를 출력합니다.\n",
            "0 0 0 0 0 \n",
            "0 0 0 0 0 \n",
            "0 1 0 0 0 \n",
            "0 0 1 0 0 \n",
            "0 0 0 0 0 \n",
            "이중 리스트의 출력이 끝났습니다.\n",
            "\n"
          ],
          "name": "stdout"
        }
      ]
    },
    {
      "cell_type": "code",
      "metadata": {
        "id": "4AVQvWPLREsH"
      },
      "source": [
        "# 이중 리스트를 초기화하는 함수\n",
        "# 초기화를 하면\n",
        "# 0 0 0 0 0\n",
        "# 0 0 0 0 0\n",
        "# 0 0 1 0 0\n",
        "# 0 0 0 0 0\n",
        "# 0 0 0 0 0\n",
        "\n",
        "def default_doublelist(lists):\n",
        "  lists = []\n",
        "  for i in range(0, 5, 1):\n",
        "    a = []\n",
        "    for j in range(0, 5, 1):\n",
        "      a.append(0)\n",
        "    lists.append(a)\n",
        "\n",
        "  lists[2][2] = 1\n",
        "\n",
        "  print_doublelist(lists)\n",
        "\n",
        "  return lists"
      ],
      "execution_count": 39,
      "outputs": []
    },
    {
      "cell_type": "code",
      "metadata": {
        "id": "Kb3eHJQmSlCE",
        "outputId": "b936b4e3-f887-433f-823d-1fbdaefbb601",
        "colab": {
          "base_uri": "https://localhost:8080/",
          "height": 305
        }
      },
      "source": [
        "lists = default_doublelist(lists)\n",
        "print_doublelist(lists)"
      ],
      "execution_count": 41,
      "outputs": [
        {
          "output_type": "stream",
          "text": [
            "이중 리스트를 출력합니다.\n",
            "0 0 0 0 0 \n",
            "0 0 0 0 0 \n",
            "0 0 1 0 0 \n",
            "0 0 0 0 0 \n",
            "0 0 0 0 0 \n",
            "이중 리스트의 출력이 끝났습니다.\n",
            "\n",
            "이중 리스트를 출력합니다.\n",
            "0 0 0 0 0 \n",
            "0 0 0 0 0 \n",
            "0 0 1 0 0 \n",
            "0 0 0 0 0 \n",
            "0 0 0 0 0 \n",
            "이중 리스트의 출력이 끝났습니다.\n",
            "\n"
          ],
          "name": "stdout"
        }
      ]
    },
    {
      "cell_type": "code",
      "metadata": {
        "id": "jcSy1hK4R0XT",
        "outputId": "9a06962c-55c7-42f4-fbaf-37037514fded",
        "colab": {
          "base_uri": "https://localhost:8080/",
          "height": 341
        }
      },
      "source": [
        "# 움직이는 것을 구현\n",
        "# 내가 지금 있는 위치 -> (y,x)\n",
        "y = 2\n",
        "x = 2\n",
        "\n",
        "lists = default_doublelist(lists) # lists 초기화\n",
        "\n",
        "dir = input(\"방향을 입력하세요 : \")\n",
        "\n",
        "lists[y][x] = 0 #이동 전 위치의 좌표 0\n",
        "\n",
        "# 왼쪽으로 1칸\n",
        "if dir == \"왼쪽\":\n",
        "  x = x - 1\n",
        "\n",
        "# 오른쪽으로 1칸\n",
        "elif dir ==\"오른쪽\":\n",
        "  x = x + 1\n",
        "\n",
        "# 위로 1칸\n",
        "elif dir == \"위쪽\":\n",
        "  y = y - 1\n",
        "\n",
        "# 아래로 1칸\n",
        "else:\n",
        "  y = y + 1\n",
        "\n",
        "\n",
        "print(y,x)\n",
        "\n",
        "lists[y][x] = 1 #이동한 위치의 좌표 1\n",
        "\n",
        "print_doublelist(lists)"
      ],
      "execution_count": 42,
      "outputs": [
        {
          "output_type": "stream",
          "text": [
            "이중 리스트를 출력합니다.\n",
            "0 0 0 0 0 \n",
            "0 0 0 0 0 \n",
            "0 0 1 0 0 \n",
            "0 0 0 0 0 \n",
            "0 0 0 0 0 \n",
            "이중 리스트의 출력이 끝났습니다.\n",
            "\n",
            "방향을 입력하세요 : 위쪽\n",
            "1 2\n",
            "이중 리스트를 출력합니다.\n",
            "0 0 0 0 0 \n",
            "0 0 1 0 0 \n",
            "0 0 0 0 0 \n",
            "0 0 0 0 0 \n",
            "0 0 0 0 0 \n",
            "이중 리스트의 출력이 끝났습니다.\n",
            "\n"
          ],
          "name": "stdout"
        }
      ]
    },
    {
      "cell_type": "code",
      "metadata": {
        "id": "1DLRxYUKbTHe",
        "outputId": "e53e5366-88fe-4fe7-f616-46c231984d04",
        "colab": {
          "base_uri": "https://localhost:8080/",
          "height": 305
        }
      },
      "source": [
        "lists = default_doublelist(lists)\n",
        "\n",
        "y = 2\n",
        "x = 2\n",
        "\n",
        "print_doublelist(lists)"
      ],
      "execution_count": 54,
      "outputs": [
        {
          "output_type": "stream",
          "text": [
            "이중 리스트를 출력합니다.\n",
            "0 0 0 0 0 \n",
            "0 0 0 0 0 \n",
            "0 0 1 0 0 \n",
            "0 0 0 0 0 \n",
            "0 0 0 0 0 \n",
            "이중 리스트의 출력이 끝났습니다.\n",
            "\n",
            "이중 리스트를 출력합니다.\n",
            "0 0 0 0 0 \n",
            "0 0 0 0 0 \n",
            "0 0 1 0 0 \n",
            "0 0 0 0 0 \n",
            "0 0 0 0 0 \n",
            "이중 리스트의 출력이 끝났습니다.\n",
            "\n"
          ],
          "name": "stdout"
        }
      ]
    },
    {
      "cell_type": "code",
      "metadata": {
        "id": "e4NCk9BQSNmO",
        "outputId": "7b6960ad-a95f-413a-93ce-46510620e697",
        "colab": {
          "base_uri": "https://localhost:8080/",
          "height": 215
        }
      },
      "source": [
        "# 여러 동작 수행하기\n",
        "\n",
        "y = 2\n",
        "x = 2\n",
        "\n",
        "while True:\n",
        "  dir = input(\"방향을 입력하세요(그만 하고 싶으면 \\\"그만\\\"이라고 입력하세요) : \")\n",
        "\n",
        "  lists[y][x] = 0 #이동 전 위치의 좌표 0\n",
        "\n",
        "  # 왼쪽으로 1칸\n",
        "  if dir == \"왼쪽\":\n",
        "    x = x - 1\n",
        "\n",
        "  # 오른쪽으로 1칸\n",
        "  elif dir == \"오른쪽\":\n",
        "    x = x + 1\n",
        "\n",
        "  # 위로 1칸\n",
        "  elif dir == \"위쪽\":\n",
        "    y = y - 1\n",
        "\n",
        "  # 아래로 1칸\n",
        "  elif dir == \"아래쪽\":\n",
        "    y = y + 1\n",
        "\n",
        "  elif dir == \"그만\":\n",
        "    break\n",
        "\n",
        "\n",
        "  print(y,x)\n",
        "\n",
        "  lists[y][x] = 1 #이동한 위치의 좌표 1\n",
        "\n",
        "  print_doublelist(lists)"
      ],
      "execution_count": 55,
      "outputs": [
        {
          "output_type": "stream",
          "text": [
            "방향을 입력하세요(그만 하고 싶으면 \"그만\"이라고 입력하세요) : 왼쪽\n",
            "2 1\n",
            "이중 리스트를 출력합니다.\n",
            "0 0 0 0 0 \n",
            "0 0 0 0 0 \n",
            "0 1 0 0 0 \n",
            "0 0 0 0 0 \n",
            "0 0 0 0 0 \n",
            "이중 리스트의 출력이 끝났습니다.\n",
            "\n",
            "방향을 입력하세요(그만 하고 싶으면 \"그만\"이라고 입력하세요) : 그만\n"
          ],
          "name": "stdout"
        }
      ]
    },
    {
      "cell_type": "code",
      "metadata": {
        "id": "tjPvwTGbaPK6"
      },
      "source": [
        "# 테두리에 닿았다면\n",
        "# 왼쪽 끝까지 갈 경우, 더 왼쪽으로 못가게 하는 것"
      ],
      "execution_count": 57,
      "outputs": []
    },
    {
      "cell_type": "code",
      "metadata": {
        "id": "hNVMqSoTdDP8",
        "outputId": "842486d7-a66c-4b8e-86b7-2dc718f0f0de",
        "colab": {
          "base_uri": "https://localhost:8080/",
          "height": 593
        }
      },
      "source": [
        "y = 2\n",
        "x = 2\n",
        "\n",
        "while True:\n",
        "  dir = input(\"방향을 입력하세요(그만 하고 싶으면 \\\"그만\\\"이라고 입력하세요) : \")\n",
        "\n",
        "  lists[y][x] = 0 #이동 전 위치의 좌표 0\n",
        "\n",
        "  # 왼쪽으로 1칸\n",
        "  if dir == \"왼쪽\":\n",
        "    x = x - 1\n",
        "    if x < 0:\n",
        "      x = 0\n",
        "      print(\"더 이상 왼쪽으로 갈 수 없습니다.\")\n",
        "\n",
        "  # 오른쪽으로 1칸\n",
        "  elif dir == \"오른쪽\":\n",
        "    x = x + 1\n",
        "    if x >=5:\n",
        "      x = 4\n",
        "      print(\"더 이상 오른쪽으로 갈 수 없습니다.\")\n",
        "\n",
        "  # 위로 1칸\n",
        "  elif dir == \"위쪽\":\n",
        "    y = y - 1\n",
        "    if x < 0 :\n",
        "      print(\"더 이상 위쪽으로 갈 수 없습니다.\")\n",
        "\n",
        "  # 아래로 1칸\n",
        "  elif dir == \"아래쪽\":\n",
        "    y = y + 1\n",
        "    if y > 5:\n",
        "      print(\"더 이상 아래쪽으로 갈 수 없습니다.\")\n",
        "      \n",
        "  elif dir == \"그만\":\n",
        "    break\n",
        "\n",
        "\n",
        "  print(y,x)\n",
        "\n",
        "  lists[y][x] = 1 #이동한 위치의 좌표 1\n",
        "\n",
        "  print_doublelist(lists)"
      ],
      "execution_count": 58,
      "outputs": [
        {
          "output_type": "stream",
          "text": [
            "방향을 입력하세요(그만 하고 싶으면 \"그만\"이라고 입력하세요) : 왼쪽\n",
            "2 1\n",
            "이중 리스트를 출력합니다.\n",
            "0 0 0 0 0 \n",
            "0 0 0 0 0 \n",
            "0 1 0 0 0 \n",
            "0 0 0 0 0 \n",
            "0 0 0 0 0 \n",
            "이중 리스트의 출력이 끝났습니다.\n",
            "\n",
            "방향을 입력하세요(그만 하고 싶으면 \"그만\"이라고 입력하세요) : 왼쪽\n",
            "2 0\n",
            "이중 리스트를 출력합니다.\n",
            "0 0 0 0 0 \n",
            "0 0 0 0 0 \n",
            "1 0 0 0 0 \n",
            "0 0 0 0 0 \n",
            "0 0 0 0 0 \n",
            "이중 리스트의 출력이 끝났습니다.\n",
            "\n",
            "방향을 입력하세요(그만 하고 싶으면 \"그만\"이라고 입력하세요) : 왼쪽\n",
            "더 이상 왼쪽으로 갈 수 없습니다.\n",
            "2 0\n",
            "이중 리스트를 출력합니다.\n",
            "0 0 0 0 0 \n",
            "0 0 0 0 0 \n",
            "1 0 0 0 0 \n",
            "0 0 0 0 0 \n",
            "0 0 0 0 0 \n",
            "이중 리스트의 출력이 끝났습니다.\n",
            "\n",
            "방향을 입력하세요(그만 하고 싶으면 \"그만\"이라고 입력하세요) : 그만\n"
          ],
          "name": "stdout"
        }
      ]
    },
    {
      "cell_type": "code",
      "metadata": {
        "id": "1Edx6wjWeJ4y"
      },
      "source": [
        "def check(dir, y, x):\n",
        "  if x < 0 or x >=5 or y < 0 or y >= 5:\n",
        "    if dir == \"왼쪽\":\n",
        "      x = 0\n",
        "    elif dir == \"오른쪽\":\n",
        "      x = 4\n",
        "    elif dir == \"위쪽\":\n",
        "      y = 0\n",
        "    elif dir == \"아래쪽\":\n",
        "      y = 4\n",
        "\n",
        "    print(\"더 이상\", dir, \"쪽으로 갈 수 없습니다.\")\n",
        "\n",
        "  return y, x"
      ],
      "execution_count": 60,
      "outputs": []
    },
    {
      "cell_type": "code",
      "metadata": {
        "id": "Xmp8eOk8glKz"
      },
      "source": [
        ""
      ],
      "execution_count": null,
      "outputs": []
    }
  ]
}