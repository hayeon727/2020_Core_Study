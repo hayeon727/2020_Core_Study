{
  "nbformat": 4,
  "nbformat_minor": 0,
  "metadata": {
    "colab": {
      "name": "201110_튜터링_6주차.ipynb",
      "provenance": [],
      "authorship_tag": "ABX9TyPcY95BTSh0pllfT/CDUuF+",
      "include_colab_link": true
    },
    "kernelspec": {
      "name": "python3",
      "display_name": "Python 3"
    }
  },
  "cells": [
    {
      "cell_type": "markdown",
      "metadata": {
        "id": "view-in-github",
        "colab_type": "text"
      },
      "source": [
        "<a href=\"https://colab.research.google.com/github/hayeon727/2020_Core_Study/blob/main/201110_%ED%8A%9C%ED%84%B0%EB%A7%81_6%EC%A3%BC%EC%B0%A8.ipynb\" target=\"_parent\"><img src=\"https://colab.research.google.com/assets/colab-badge.svg\" alt=\"Open In Colab\"/></a>"
      ]
    },
    {
      "cell_type": "code",
      "metadata": {
        "id": "b1z-EpQ4MvFR",
        "outputId": "e7a9dc0c-2e60-40cd-b181-2d62d244fe2c",
        "colab": {
          "base_uri": "https://localhost:8080/"
        }
      },
      "source": [
        "# 리스트 안에 다른 리스트 넣기\n",
        "list_a = [ 1, 2]\n",
        "\n",
        "list_b = []\n",
        "list_b.append(90)\n",
        "list_b.append('국어 점수')\n",
        "list_b.append(80)\n",
        "list_b.append('수학 점수')\n",
        "print(list_b)\n",
        "\n",
        "list_a.append(list_b)\n",
        "print(list_a)"
      ],
      "execution_count": 1,
      "outputs": [
        {
          "output_type": "stream",
          "text": [
            "[90, '국어 점수', 80, '수학 점수']\n",
            "[1, 2, [90, '국어 점수', 80, '수학 점수']]\n"
          ],
          "name": "stdout"
        }
      ]
    },
    {
      "cell_type": "code",
      "metadata": {
        "id": "koJYr-lENYGf",
        "outputId": "4f30828e-29a1-4e1d-8fb1-80cf15e47698",
        "colab": {
          "base_uri": "https://localhost:8080/"
        }
      },
      "source": [
        "# 싱글 리스트\n",
        "single = []\n",
        "for i in range(0, 5, 1):\n",
        "  single.append(0)\n",
        "\n",
        "print(single)\n",
        "\n",
        "# 이중 리스트의 응용\n",
        "map = []\n",
        "for i in range(0, 5, 1):\n",
        "  map_in = []\n",
        "  for j in range(0, 5, 1):\n",
        "    map_in.append(0)\n",
        "  map.append(map_in)\n",
        "\n",
        "print(map)"
      ],
      "execution_count": 6,
      "outputs": [
        {
          "output_type": "stream",
          "text": [
            "[0, 0, 0, 0, 0]\n",
            "[[0, 0, 0, 0, 0], [0, 0, 0, 0, 0], [0, 0, 0, 0, 0], [0, 0, 0, 0, 0], [0, 0, 0, 0, 0]]\n"
          ],
          "name": "stdout"
        }
      ]
    },
    {
      "cell_type": "code",
      "metadata": {
        "id": "3Jj6-AnGNqkc",
        "outputId": "97ab9650-af9a-43f9-ea06-02a74afe68fa",
        "colab": {
          "base_uri": "https://localhost:8080/"
        }
      },
      "source": [
        "# 리스트를 나누는 방법 (슬라이싱)\n",
        "\n",
        "# 0부터 10까지 수가 저장되어 있는 리스트\n",
        "list_c = []\n",
        "for i in range(0, 10, 1):\n",
        "  list_c.append(i)\n",
        "\n",
        "print(list_c)\n",
        "\n",
        "# 리스트에 접근하려면\n",
        "print(list_c[0])\n",
        "print(list_c[4])\n",
        "\n",
        "print(list_c[-1])   # 맨 뒷부분의 원소를 가리킨다\n",
        "print(list_c[-2])\n",
        "print(list_c[-3])\n",
        "# print(list_c[-11]) # IndexError : list index out of range"
      ],
      "execution_count": 16,
      "outputs": [
        {
          "output_type": "stream",
          "text": [
            "[0, 1, 2, 3, 4, 5, 6, 7, 8, 9]\n",
            "0\n",
            "4\n",
            "9\n",
            "8\n",
            "7\n"
          ],
          "name": "stdout"
        }
      ]
    },
    {
      "cell_type": "code",
      "metadata": {
        "id": "RbPRJ16HODUH",
        "outputId": "17a06b1d-66fb-4d8b-ebd7-df00685b3c34",
        "colab": {
          "base_uri": "https://localhost:8080/"
        }
      },
      "source": [
        "# 뒤에서부터 출력하는 프로그램\n",
        "for i in range(9, -1, -1):\n",
        "  print(\"거꾸로 출력 1 :\", list_c[i])\n",
        "\n",
        "for i in range(1, 11, 1):\n",
        "  print(\"거꾸로 출력 2 :\", list_c[i*-1])"
      ],
      "execution_count": 20,
      "outputs": [
        {
          "output_type": "stream",
          "text": [
            "거꾸로 출력 1 : 9\n",
            "거꾸로 출력 1 : 8\n",
            "거꾸로 출력 1 : 7\n",
            "거꾸로 출력 1 : 6\n",
            "거꾸로 출력 1 : 5\n",
            "거꾸로 출력 1 : 4\n",
            "거꾸로 출력 1 : 3\n",
            "거꾸로 출력 1 : 2\n",
            "거꾸로 출력 1 : 1\n",
            "거꾸로 출력 1 : 0\n",
            "거꾸로 출력 2 : 9\n",
            "거꾸로 출력 2 : 8\n",
            "거꾸로 출력 2 : 7\n",
            "거꾸로 출력 2 : 6\n",
            "거꾸로 출력 2 : 5\n",
            "거꾸로 출력 2 : 4\n",
            "거꾸로 출력 2 : 3\n",
            "거꾸로 출력 2 : 2\n",
            "거꾸로 출력 2 : 1\n",
            "거꾸로 출력 2 : 0\n"
          ],
          "name": "stdout"
        }
      ]
    },
    {
      "cell_type": "code",
      "metadata": {
        "id": "AYGUy_EjPZ4O",
        "outputId": "2856b2f7-4ada-489b-fe96-db5ca904f7d1",
        "colab": {
          "base_uri": "https://localhost:8080/"
        }
      },
      "source": [
        "print(list_b)\n",
        "in1 = list_b[0:2]\n",
        "in2 = list_b[2:4]\n",
        "print(in1)\n",
        "print(in2)"
      ],
      "execution_count": 21,
      "outputs": [
        {
          "output_type": "stream",
          "text": [
            "[90, '국어 점수', 80, '수학 점수']\n",
            "[90, '국어 점수']\n",
            "[80, '수학 점수']\n"
          ],
          "name": "stdout"
        }
      ]
    },
    {
      "cell_type": "code",
      "metadata": {
        "id": "jFNEnOFvP0VD",
        "outputId": "9aa3dcec-40c3-46c2-dd17-fe34f4d1dc46",
        "colab": {
          "base_uri": "https://localhost:8080/"
        }
      },
      "source": [
        "a = [90, '국어점수', 80, '수학점수']\n",
        "\n",
        "print(a[0:2])\n",
        "print(a[:2])\n",
        "print(a[2:4])\n",
        "print(a[2:])\n",
        "print(a[:])"
      ],
      "execution_count": 23,
      "outputs": [
        {
          "output_type": "stream",
          "text": [
            "[90, '국어점수']\n",
            "[90, '국어점수']\n",
            "[80, '수학점수']\n",
            "[80, '수학점수']\n",
            "[90, '국어점수', 80, '수학점수']\n"
          ],
          "name": "stdout"
        }
      ]
    },
    {
      "cell_type": "code",
      "metadata": {
        "id": "CguGt587RrUO",
        "outputId": "6d823796-df99-40fc-eb5d-525195712708",
        "colab": {
          "base_uri": "https://localhost:8080/"
        }
      },
      "source": [
        "print(a[::2])"
      ],
      "execution_count": 24,
      "outputs": [
        {
          "output_type": "stream",
          "text": [
            "[90, 80]\n"
          ],
          "name": "stdout"
        }
      ]
    },
    {
      "cell_type": "code",
      "metadata": {
        "id": "rNec5oh0R1vi",
        "outputId": "eef80baf-6b65-4135-f3e4-2e4cd7030710",
        "colab": {
          "base_uri": "https://localhost:8080/"
        }
      },
      "source": [
        "print(a[1::2])"
      ],
      "execution_count": 26,
      "outputs": [
        {
          "output_type": "stream",
          "text": [
            "['국어점수', '수학점수']\n"
          ],
          "name": "stdout"
        }
      ]
    },
    {
      "cell_type": "code",
      "metadata": {
        "id": "RxA0JRZvSVr2",
        "outputId": "b9541de3-f6f0-4e9b-e88b-cfde02da3802",
        "colab": {
          "base_uri": "https://localhost:8080/"
        }
      },
      "source": [
        "print(a[::2])\n",
        "print(a[1::2])\n",
        "\n",
        "b = a[::2] + a[1::2]\n",
        "print(b)"
      ],
      "execution_count": 27,
      "outputs": [
        {
          "output_type": "stream",
          "text": [
            "[90, 80]\n",
            "['국어점수', '수학점수']\n",
            "[90, 80, '국어점수', '수학점수']\n"
          ],
          "name": "stdout"
        }
      ]
    },
    {
      "cell_type": "code",
      "metadata": {
        "id": "cJm5RsU3TS1s",
        "outputId": "48d2e995-35aa-458e-d0a6-0437c4842a2c",
        "colab": {
          "base_uri": "https://localhost:8080/"
        }
      },
      "source": [
        "# 연습문제 5.20\n",
        "# 2020 카카오 신입 공채 코딩테스트 문제 - 문자열 압축\n",
        "\n",
        "src_str = input(\"문자열을 입력하세요 : \")\n",
        "# src = 'aaaabbb'\n",
        "# src_list = ['a', 'a', 'a', 'a', 'b', 'b', 'b']\n",
        "output = ''\n",
        "\n",
        "# 핵심은 이전에 문자를 기억해야 한다.\n",
        "left = ''\n",
        "counts = 0\n",
        "for i in range(0, len(src_list)):\n",
        "  if i == 0: \n",
        "    #sc_list의 첫번째 원소는 자동으로 저장하자.\n",
        "    left = src_list[i];\n",
        "    counts = 1\n",
        "  else:   # 이전에 나왔던 문자랑 현재 조사중인 문자가 같다면, count를 1 증가\n",
        "    if left == src_list[i]:\n",
        "      counts = counts + 1\n",
        "    else:\n",
        "      # 지금까지 기록한 left와 count를 output에 넣고\n",
        "      # left와 counts를 초기화한다.\n",
        "      output += left\n",
        "      output += str(counts)   # 정수형을 문자열에 넣기 위해서 str로 강제 형변환 수행\n",
        "\n",
        "      left = src_list[i]\n",
        "      counts = 1\n",
        "\n",
        "if len(src_str) != 0:\n",
        "    output += left\n",
        "    output += str(counts)\n",
        "    \n",
        "print(\"output = \\'\", end = '')\n",
        "print(output, end='')\n",
        "print('\\'')\n",
        "\n",
        "\n"
      ],
      "execution_count": 44,
      "outputs": [
        {
          "output_type": "stream",
          "text": [
            "문자열을 입력하세요 : aaaabbb\n",
            "output = 'a4b3'\n"
          ],
          "name": "stdout"
        }
      ]
    },
    {
      "cell_type": "code",
      "metadata": {
        "id": "n8fobMLrW5n7"
      },
      "source": [
        "# https://programmers.co.kr/learn/courses/30/lessons/60057?language=python3\n",
        "\n",
        "def solution(s):\n",
        "    answer = 0\n",
        "\n",
        "    for j in range(10, int(len(s) / 2) + 1, 1):\n",
        "        \n",
        "    # j개 단위 문자열을 잘라 봅시다.\n",
        "        output = ''\n",
        "        left = ''\n",
        "        now = ''\n",
        "        counts = 0\n",
        "        for i in range(0, len(s), 1):\n",
        "            if i == 0:\n",
        "                now = s[i]\n",
        "                counts = 1\n",
        "            else:\n",
        "                if i % j == j - 1:\n",
        "                    left += s[i]\n",
        "\n",
        "                    if left == now:\n",
        "                        counts = counts + 1\n",
        "                        now = ''\n",
        "                    else:\n",
        "                        if left == '':\n",
        "                            for i in range(0, len(now), 1):\n",
        "                                left += now[i]\n",
        "                            now = ''\n",
        "                        else:\n",
        "                            if counts > 1:\n",
        "                                output += str(counts)\n",
        "                            output += left\n",
        "\n",
        "                            left = ''\n",
        "                            for i in range(0, len(now), 1):\n",
        "                                left += now[i]\n",
        "                            counts = 1\n",
        "                    \n",
        "        if len(s) != 0:\n",
        "            if counts > 1:\n",
        "                output += str(counts)\n",
        "            output += left\n",
        "        \n",
        "        print(output)\n",
        "    \n",
        "    return answer"
      ],
      "execution_count": 44,
      "outputs": []
    }
  ]
}