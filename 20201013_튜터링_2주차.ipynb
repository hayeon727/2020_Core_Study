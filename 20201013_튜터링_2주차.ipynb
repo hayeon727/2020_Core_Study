{
  "nbformat": 4,
  "nbformat_minor": 0,
  "metadata": {
    "colab": {
      "name": "20201013_튜터링_2주차.ipynb",
      "provenance": [],
      "collapsed_sections": [],
      "authorship_tag": "ABX9TyO2+RkZA7eq4ONKcyijlp17",
      "include_colab_link": true
    },
    "kernelspec": {
      "display_name": "Python 3",
      "name": "python3"
    }
  },
  "cells": [
    {
      "cell_type": "markdown",
      "metadata": {
        "id": "view-in-github",
        "colab_type": "text"
      },
      "source": [
        "<a href=\"https://colab.research.google.com/github/hayeon727/2020_Core_Study/blob/main/20201013_%ED%8A%9C%ED%84%B0%EB%A7%81_2%EC%A3%BC%EC%B0%A8.ipynb\" target=\"_parent\"><img src=\"https://colab.research.google.com/assets/colab-badge.svg\" alt=\"Open In Colab\"/></a>"
      ]
    },
    {
      "cell_type": "code",
      "metadata": {
        "id": "K_lFxiFY9dIt",
        "outputId": "afa0fad5-1a12-4b24-ba71-48f9de017d61",
        "colab": {
          "base_uri": "https://localhost:8080/",
          "height": 36
        }
      },
      "source": [
        "a = int(input())"
      ],
      "execution_count": 2,
      "outputs": [
        {
          "output_type": "stream",
          "text": [
            "3\n"
          ],
          "name": "stdout"
        }
      ]
    },
    {
      "cell_type": "code",
      "metadata": {
        "id": "LX81xriJCOVt",
        "outputId": "5b8e16d6-814c-4d7d-d664-7b747cb76937",
        "colab": {
          "base_uri": "https://localhost:8080/",
          "height": 36
        }
      },
      "source": [
        "print(a)"
      ],
      "execution_count": 3,
      "outputs": [
        {
          "output_type": "stream",
          "text": [
            "3\n"
          ],
          "name": "stdout"
        }
      ]
    },
    {
      "cell_type": "code",
      "metadata": {
        "id": "f7FJAkjKCQEM",
        "outputId": "b7ff0d49-5fa2-418c-ce37-fdc8f78010af",
        "colab": {
          "base_uri": "https://localhost:8080/",
          "height": 36
        }
      },
      "source": [
        "type(a)"
      ],
      "execution_count": 4,
      "outputs": [
        {
          "output_type": "execute_result",
          "data": {
            "text/plain": [
              "int"
            ]
          },
          "metadata": {
            "tags": []
          },
          "execution_count": 4
        }
      ]
    },
    {
      "cell_type": "code",
      "metadata": {
        "id": "-PIvSG_TCQ9I",
        "outputId": "b2272874-5973-41e3-d0f5-2419e222c791",
        "colab": {
          "base_uri": "https://localhost:8080/",
          "height": 73
        }
      },
      "source": [
        "for i in range(0, 3, 1):\n",
        "  print(i)"
      ],
      "execution_count": 5,
      "outputs": [
        {
          "output_type": "stream",
          "text": [
            "0\n",
            "1\n",
            "2\n"
          ],
          "name": "stdout"
        }
      ]
    },
    {
      "cell_type": "code",
      "metadata": {
        "id": "biMWMw7bC-IP"
      },
      "source": [
        "# 8393 (1) : 반복문 사용"
      ],
      "execution_count": 6,
      "outputs": []
    },
    {
      "cell_type": "code",
      "metadata": {
        "id": "-JOysYfyDzzv",
        "outputId": "61940055-5dcf-4dee-aa9a-6d0dd50b07fc",
        "colab": {
          "base_uri": "https://localhost:8080/",
          "height": 55
        }
      },
      "source": [
        "a = int(input())\n",
        "sum = 0\n",
        "for i in range(1, a+1) :\n",
        "  sum += i\n",
        "\n",
        "print(sum)"
      ],
      "execution_count": 9,
      "outputs": [
        {
          "output_type": "stream",
          "text": [
            "3\n",
            "6\n"
          ],
          "name": "stdout"
        }
      ]
    },
    {
      "cell_type": "code",
      "metadata": {
        "id": "O9nMtu2LEgjJ"
      },
      "source": [
        "# 8393 (2) : 반복문 사용 X -> 1부터 n까지의 합을 구하는 공식을 이용"
      ],
      "execution_count": 10,
      "outputs": []
    },
    {
      "cell_type": "code",
      "metadata": {
        "id": "VMOaOAx5FDdy",
        "outputId": "e4146308-e634-4671-cee5-1049921b5f30",
        "colab": {
          "base_uri": "https://localhost:8080/",
          "height": 55
        }
      },
      "source": [
        "a = int(input())\n",
        "sum = a * (a + 1) / 2\n",
        "print(sum)"
      ],
      "execution_count": 11,
      "outputs": [
        {
          "output_type": "stream",
          "text": [
            "3\n",
            "6.0\n"
          ],
          "name": "stdout"
        }
      ]
    },
    {
      "cell_type": "code",
      "metadata": {
        "id": "O-43VzQbFidQ",
        "outputId": "0070c0eb-e79e-41d2-8860-287817e873cd",
        "colab": {
          "base_uri": "https://localhost:8080/",
          "height": 36
        }
      },
      "source": [
        "type(sum) #6.0 : 소수점"
      ],
      "execution_count": 12,
      "outputs": [
        {
          "output_type": "execute_result",
          "data": {
            "text/plain": [
              "float"
            ]
          },
          "metadata": {
            "tags": []
          },
          "execution_count": 12
        }
      ]
    },
    {
      "cell_type": "code",
      "metadata": {
        "id": "lmdecKLnFmAw",
        "outputId": "3e00d783-b992-4458-a6cc-c87740c0202a",
        "colab": {
          "base_uri": "https://localhost:8080/",
          "height": 55
        }
      },
      "source": [
        "a = int(input())\n",
        "sum = a * (a + 1) / 2\n",
        "print(int(sum)) #강제 형변환 ; 컴퓨터가 임의로 형을 바꿨을 때, 코더가 원하는 형으로 바꾸는 것."
      ],
      "execution_count": 13,
      "outputs": [
        {
          "output_type": "stream",
          "text": [
            "3\n",
            "6\n"
          ],
          "name": "stdout"
        }
      ]
    },
    {
      "cell_type": "code",
      "metadata": {
        "id": "hsuXW8EaGPjk"
      },
      "source": [
        "# 1000 # 한 줄에 두 수를 모두 나타내야."
      ],
      "execution_count": 14,
      "outputs": []
    },
    {
      "cell_type": "markdown",
      "metadata": {
        "id": "EG6qpvJ5HYrB"
      },
      "source": [
        "input() 특징\n",
        "1. 한 줄 전체를 입력받음\n",
        "2. str형으로 입력받음"
      ]
    },
    {
      "cell_type": "code",
      "metadata": {
        "id": "Zv1bKqVCGacj",
        "outputId": "9e2bd734-5fdf-4c82-a3dd-bb2058be232f",
        "colab": {
          "base_uri": "https://localhost:8080/",
          "height": 195
        }
      },
      "source": [
        "a = int(input()) #여기서 1 2를 입력하면 사이의 공백은 int가 아니기 때문에 오류. -> space bar를 기준으로 왼, 오 나누기. (책 p.611)"
      ],
      "execution_count": 15,
      "outputs": [
        {
          "output_type": "stream",
          "text": [
            "1 2\n"
          ],
          "name": "stdout"
        },
        {
          "output_type": "error",
          "ename": "ValueError",
          "evalue": "ignored",
          "traceback": [
            "\u001b[0;31m---------------------------------------------------------------------------\u001b[0m",
            "\u001b[0;31mValueError\u001b[0m                                Traceback (most recent call last)",
            "\u001b[0;32m<ipython-input-15-e15b68a912d6>\u001b[0m in \u001b[0;36m<module>\u001b[0;34m()\u001b[0m\n\u001b[0;32m----> 1\u001b[0;31m \u001b[0ma\u001b[0m \u001b[0;34m=\u001b[0m \u001b[0mint\u001b[0m\u001b[0;34m(\u001b[0m\u001b[0minput\u001b[0m\u001b[0;34m(\u001b[0m\u001b[0;34m)\u001b[0m\u001b[0;34m)\u001b[0m \u001b[0;31m#여기서 1 2를 입력하면 사이의 공백은 int가 아니기 때문에 오류.\u001b[0m\u001b[0;34m\u001b[0m\u001b[0;34m\u001b[0m\u001b[0m\n\u001b[0m",
            "\u001b[0;31mValueError\u001b[0m: invalid literal for int() with base 10: '1 2'"
          ]
        }
      ]
    },
    {
      "cell_type": "markdown",
      "metadata": {
        "id": "x94rF72XIW3a"
      },
      "source": [
        "input().split(구분자) -> 한 줄에 여러 개의 정수가 떨어져 있을 떄 list로 입력받는 방법 -> 구분자 => 문제점 : str로 받음.\n"
      ]
    },
    {
      "cell_type": "code",
      "metadata": {
        "id": "jJnuhDI_IPYE",
        "outputId": "62ccdcb0-aa08-4361-f781-cd91e3df4e3c",
        "colab": {
          "base_uri": "https://localhost:8080/",
          "height": 36
        }
      },
      "source": [
        "print(a)"
      ],
      "execution_count": 17,
      "outputs": [
        {
          "output_type": "stream",
          "text": [
            "['1', '2']\n"
          ],
          "name": "stdout"
        }
      ]
    },
    {
      "cell_type": "code",
      "metadata": {
        "id": "D4UHV1xHHwJ6",
        "outputId": "7255065d-01ca-4223-b7be-728f2c0f46bc",
        "colab": {
          "base_uri": "https://localhost:8080/",
          "height": 36
        }
      },
      "source": [
        "# p.611\n",
        "a = input().split(' ')"
      ],
      "execution_count": 16,
      "outputs": [
        {
          "output_type": "stream",
          "text": [
            "1 2\n"
          ],
          "name": "stdout"
        }
      ]
    },
    {
      "cell_type": "code",
      "metadata": {
        "id": "t0gE4SkqITOS",
        "outputId": "810011ca-8a42-44eb-aec6-0e73fd1c811f",
        "colab": {
          "base_uri": "https://localhost:8080/",
          "height": 36
        }
      },
      "source": [
        "type(a)"
      ],
      "execution_count": 18,
      "outputs": [
        {
          "output_type": "execute_result",
          "data": {
            "text/plain": [
              "list"
            ]
          },
          "metadata": {
            "tags": []
          },
          "execution_count": 18
        }
      ]
    },
    {
      "cell_type": "markdown",
      "metadata": {
        "id": "uB39sypgJAcE"
      },
      "source": [
        "str로 받는 문제점 해결 -> map(자료형, 데이터)"
      ]
    },
    {
      "cell_type": "code",
      "metadata": {
        "id": "9DJ-X4tIIUiU",
        "outputId": "c6ad0724-6fcf-4d3c-91b5-cc51889aa1c5",
        "colab": {
          "base_uri": "https://localhost:8080/",
          "height": 129
        }
      },
      "source": [
        "a, b = map(int, input().split(' '))\n",
        "\n",
        "print(a)\n",
        "print(b)\n",
        "print(type(a))\n",
        "print(type(b))\n",
        "print(a + b)"
      ],
      "execution_count": 20,
      "outputs": [
        {
          "output_type": "stream",
          "text": [
            "3 5\n",
            "3\n",
            "5\n",
            "<class 'int'>\n",
            "<class 'int'>\n",
            "8\n"
          ],
          "name": "stdout"
        }
      ]
    },
    {
      "cell_type": "markdown",
      "metadata": {
        "id": "VbfryUy5Kzjd"
      },
      "source": [
        "* 한 줄에 정수를 여러개 입력받는데\n",
        "  1. 정수들이 ' '로 구분되어 있고\n",
        "  2. 입력받는 정수의 개수를 알 경우."
      ]
    },
    {
      "cell_type": "code",
      "metadata": {
        "id": "HJjj9JBAJgnj",
        "outputId": "1c6d0c0e-ff99-4196-f6d4-8eb2c8045bb0",
        "colab": {
          "base_uri": "https://localhost:8080/",
          "height": 55
        }
      },
      "source": [
        "# 1000번 최종\n",
        "\n",
        "a, b = map(int, input().split(' '))\n",
        "print(a + b)"
      ],
      "execution_count": 22,
      "outputs": [
        {
          "output_type": "stream",
          "text": [
            "1 2\n",
            "3\n"
          ],
          "name": "stdout"
        }
      ]
    },
    {
      "cell_type": "markdown",
      "metadata": {
        "id": "_eLPBmHpKb7A"
      },
      "source": [
        "* 한 줄에 정수를 여러개 입력받는데\n",
        "  1. 정수들이 ' '로 구분되어 있고\n",
        "  2. 입력받는 정수의 개수 -> 너무 많아서 모를 경우 or 개수가 가변적일 경우"
      ]
    },
    {
      "cell_type": "markdown",
      "metadata": {
        "id": "KEpQ5zTILXlS"
      },
      "source": [
        "* list ?\n",
        "  1. 여러개의 정수를 하나로 묶어 입력받기 위한 방법\n",
        "  2. l = [ ] or l = [1, 2, 3]\n",
        "  3. 리스트에서 각 요소에 접근할 떄\n",
        "    ex) lis = [1, 2, 3]\n",
        "        lis[0] #lis에서 첫번째 위치 **(0부터 시작. 위치는 index라고도 한다.)**"
      ]
    },
    {
      "cell_type": "markdown",
      "metadata": {
        "id": "yOEwGWawMYdw"
      },
      "source": [
        ""
      ]
    },
    {
      "cell_type": "code",
      "metadata": {
        "id": "qMth9n5vJsTG",
        "outputId": "2f113787-f775-4fd4-cc07-c7ed7c48f1c3",
        "colab": {
          "base_uri": "https://localhost:8080/",
          "height": 36
        }
      },
      "source": [
        "l = [int(x) for x in input().split()]"
      ],
      "execution_count": 23,
      "outputs": [
        {
          "output_type": "stream",
          "text": [
            "1 2 3 4 5\n"
          ],
          "name": "stdout"
        }
      ]
    },
    {
      "cell_type": "markdown",
      "metadata": {
        "id": "5PLP-o37M6_B"
      },
      "source": [
        "* for문의 다른 형태 ; 시험에는 안나오겠지만 실생활.\n",
        "  1. for 변수 in 순회할 리스트 이용\n",
        "    -> 변수 = 리스트[순서]"
      ]
    },
    {
      "cell_type": "code",
      "metadata": {
        "id": "f_gNOXHlLSZP",
        "outputId": "94285451-38d2-46a4-8630-89a2cf82cabd",
        "colab": {
          "base_uri": "https://localhost:8080/",
          "height": 36
        }
      },
      "source": [
        "a = input().split()"
      ],
      "execution_count": 28,
      "outputs": [
        {
          "output_type": "stream",
          "text": [
            "937346 33628  91754 383 77 5638\n"
          ],
          "name": "stdout"
        }
      ]
    },
    {
      "cell_type": "code",
      "metadata": {
        "id": "g6_CPf0-MUet",
        "outputId": "2fee8323-7ef1-43bb-875d-b5337ca3a207",
        "colab": {
          "base_uri": "https://localhost:8080/",
          "height": 36
        }
      },
      "source": [
        "print(a)"
      ],
      "execution_count": 29,
      "outputs": [
        {
          "output_type": "stream",
          "text": [
            "['937346', '33628', '91754', '383', '77', '5638']\n"
          ],
          "name": "stdout"
        }
      ]
    },
    {
      "cell_type": "code",
      "metadata": {
        "id": "K-YP_IgMN7ss",
        "outputId": "5086bf2f-a3c2-47c8-8485-27085268f14f",
        "colab": {
          "base_uri": "https://localhost:8080/",
          "height": 129
        }
      },
      "source": [
        "for x in a :\n",
        "  print(x)"
      ],
      "execution_count": 30,
      "outputs": [
        {
          "output_type": "stream",
          "text": [
            "937346\n",
            "33628\n",
            "91754\n",
            "383\n",
            "77\n",
            "5638\n"
          ],
          "name": "stdout"
        }
      ]
    },
    {
      "cell_type": "code",
      "metadata": {
        "id": "GoZfalVbN_Fy",
        "outputId": "1daef2ff-3e82-4289-f177-af68f2775edd",
        "colab": {
          "base_uri": "https://localhost:8080/",
          "height": 55
        }
      },
      "source": [
        "# 1000번 문제 다시 풀어보기\n",
        "l = [int(x) for x in input().split()] #input().split()과 input().split(' ')은 동일\n",
        "\n",
        "sum = 0\n",
        "for x in l :\n",
        "  sum += x\n",
        "\n",
        "print(sum)"
      ],
      "execution_count": 33,
      "outputs": [
        {
          "output_type": "stream",
          "text": [
            "1 2\n",
            "3\n"
          ],
          "name": "stdout"
        }
      ]
    },
    {
      "cell_type": "code",
      "metadata": {
        "id": "V3odqNADOmnS"
      },
      "source": [
        "# 1330번"
      ],
      "execution_count": 34,
      "outputs": []
    },
    {
      "cell_type": "code",
      "metadata": {
        "id": "ZEibqHvEPQx9",
        "outputId": "f907ff28-8a5f-43a6-8c3e-289f60dc6fe4",
        "colab": {
          "base_uri": "https://localhost:8080/",
          "height": 55
        }
      },
      "source": [
        "a, b = map(int, input().split(' '))\n",
        "\n",
        "if a > b:\n",
        "  print (\">\")\n",
        "elif a< b:\n",
        "  print (\"<\")\n",
        "else:\n",
        "  print(\"==\")"
      ],
      "execution_count": 35,
      "outputs": [
        {
          "output_type": "stream",
          "text": [
            "26 837\n",
            "<\n"
          ],
          "name": "stdout"
        }
      ]
    },
    {
      "cell_type": "code",
      "metadata": {
        "id": "RZIVvbAKQDiK"
      },
      "source": [
        "# 15953 : kakao"
      ],
      "execution_count": 48,
      "outputs": []
    },
    {
      "cell_type": "code",
      "metadata": {
        "id": "44095lAwQZ_e",
        "outputId": "681ddd5f-11b2-4b05-82ef-1552c307f3e6",
        "colab": {
          "base_uri": "https://localhost:8080/",
          "height": 36
        }
      },
      "source": [
        "T = int(input())"
      ],
      "execution_count": 37,
      "outputs": [
        {
          "output_type": "stream",
          "text": [
            "6\n"
          ],
          "name": "stdout"
        }
      ]
    },
    {
      "cell_type": "code",
      "metadata": {
        "id": "pnzLRu5gRNxn",
        "outputId": "df905735-59fb-4327-c7e7-224b96afebdb",
        "colab": {
          "base_uri": "https://localhost:8080/",
          "height": 36
        }
      },
      "source": [
        "print(T)"
      ],
      "execution_count": 38,
      "outputs": [
        {
          "output_type": "stream",
          "text": [
            "6\n"
          ],
          "name": "stdout"
        }
      ]
    },
    {
      "cell_type": "code",
      "metadata": {
        "id": "A6nlaKBVRRPI",
        "outputId": "822e1778-66be-4947-af1c-960f38cb0ce6",
        "colab": {
          "base_uri": "https://localhost:8080/",
          "height": 260
        }
      },
      "source": [
        "T = int(input())\n",
        "\n",
        "for i in range(0, T, 1): #보통은 index 순서도 0부터 시작하기 때문에 for문도 0으로 쓰곤 함.\n",
        "  a, b = map(int, input().split(' '))\n",
        "\n",
        "  sum = 0\n",
        "  if a == 0:     #진출하지 못한 경우\n",
        "    sum += 0\n",
        "  elif a == 1:\n",
        "    sum += 500\n",
        "  elif a < 4:     #1인 경우 등, 앞에서 해결했다면 뒤에서 적용 안됨.\n",
        "    sum += 300\n",
        "  elif a < 7:\n",
        "    sum += 200\n",
        "  elif a < 11:\n",
        "    sum += 50\n",
        "  elif a < 16:\n",
        "    sum += 30\n",
        "  elif a < 22:\n",
        "    sum += 10\n",
        "  else:\n",
        "    sum += 0\n",
        "\n",
        "  if b == 0:\n",
        "    sum += 0\n",
        "  elif b == 1:\n",
        "    sum += 512\n",
        "  elif b < 4:\n",
        "    sum += 256\n",
        "  elif b < 8:\n",
        "    sum += 128\n",
        "  elif b < 16:\n",
        "    sum += 64\n",
        "  elif b < 32:\n",
        "    sum += 32\n",
        "  else:\n",
        "    sum += 0\n",
        "\n",
        "  print(sum * 10000)"
      ],
      "execution_count": 47,
      "outputs": [
        {
          "output_type": "stream",
          "text": [
            "6\n",
            "8 4\n",
            "1780000\n",
            "13 19\n",
            "620000\n",
            "8 10\n",
            "1140000\n",
            "18 18\n",
            "420000\n",
            "8 25\n",
            "820000\n",
            "13 16\n",
            "620000\n"
          ],
          "name": "stdout"
        }
      ]
    },
    {
      "cell_type": "code",
      "metadata": {
        "id": "waSOtXl3R9_L"
      },
      "source": [
        "# while을 사용하기\n",
        "\n",
        "# for i in range()\n",
        "# for i in 리스트\n",
        "\n",
        "# 위가 아닐 경우 사용."
      ],
      "execution_count": 50,
      "outputs": []
    },
    {
      "cell_type": "markdown",
      "metadata": {
        "id": "B9ZyX9j0XTPw"
      },
      "source": [
        "조건 1을 만족하지 않아도 조건2가 만족되면 바로 while문을 벗어난다.\n",
        "\n",
        "while 조건1:\n",
        "\n",
        "  if 조건2:\n",
        "\n",
        "    break"
      ]
    },
    {
      "cell_type": "code",
      "metadata": {
        "id": "LYVaIbaZYFTC",
        "outputId": "f75e63c2-e8aa-454a-a12c-282f0c797b6a",
        "colab": {
          "base_uri": "https://localhost:8080/",
          "height": 36
        }
      },
      "source": [
        "# 무한 루프를 쓰지 않은 코드\n",
        "\n",
        "a = 1\n",
        "b = 1\n",
        "\n",
        "while a != 0 and b != 0:\n",
        "  a, b = map(int, input().split(' '))\n",
        "  if a !=0 and b != 0:\n",
        "    print(a+b)"
      ],
      "execution_count": 54,
      "outputs": [
        {
          "output_type": "stream",
          "text": [
            "0 0\n"
          ],
          "name": "stdout"
        }
      ]
    },
    {
      "cell_type": "code",
      "metadata": {
        "id": "YdhwFkLWYeqO",
        "outputId": "108e4a72-2eff-4a3b-ecb1-13296cd366d2",
        "colab": {
          "base_uri": "https://localhost:8080/",
          "height": 223
        }
      },
      "source": [
        "# 무한 루프를 사용한 코드\n",
        "\n",
        "while True:\n",
        "  a, b = map(int, input().split(' '))\n",
        "  if a != 0 and b != 0:\n",
        "    print(a+b)\n",
        "  else:\n",
        "    break"
      ],
      "execution_count": 52,
      "outputs": [
        {
          "output_type": "stream",
          "text": [
            "1 1\n",
            "2\n",
            "2 3\n",
            "5\n",
            "3 4\n",
            "7\n",
            "9 8\n",
            "17\n",
            "5 2\n",
            "7\n",
            "0 0\n"
          ],
          "name": "stdout"
        }
      ]
    },
    {
      "cell_type": "code",
      "metadata": {
        "id": "RQ049_LUYuji"
      },
      "source": [
        ""
      ],
      "execution_count": null,
      "outputs": []
    }
  ]
}