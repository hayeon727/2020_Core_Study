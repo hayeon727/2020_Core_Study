{
  "nbformat": 4,
  "nbformat_minor": 0,
  "metadata": {
    "colab": {
      "name": "20201020_튜터링_3주차.ipynb",
      "provenance": [],
      "authorship_tag": "ABX9TyPEokITYfJ8Yq+7rXBFjavB",
      "include_colab_link": true
    },
    "kernelspec": {
      "name": "python3",
      "display_name": "Python 3"
    }
  },
  "cells": [
    {
      "cell_type": "markdown",
      "metadata": {
        "id": "view-in-github",
        "colab_type": "text"
      },
      "source": [
        "<a href=\"https://colab.research.google.com/github/hayeon727/2020_Core_Study/blob/main/20201020_%ED%8A%9C%ED%84%B0%EB%A7%81_3%EC%A3%BC%EC%B0%A8.ipynb\" target=\"_parent\"><img src=\"https://colab.research.google.com/assets/colab-badge.svg\" alt=\"Open In Colab\"/></a>"
      ]
    },
    {
      "cell_type": "code",
      "metadata": {
        "id": "vOacsuc8CMjs",
        "outputId": "04f73df2-a076-4a13-8822-9386dcccac59",
        "colab": {
          "base_uri": "https://localhost:8080/",
          "height": 36
        }
      },
      "source": [
        "# map(자료형, 반복 가능한 객체(리스트, 변수, ...)\n",
        "a, b = map(int, input().split(' '))"
      ],
      "execution_count": 5,
      "outputs": [
        {
          "output_type": "stream",
          "text": [
            "3 4\n"
          ],
          "name": "stdout"
        }
      ]
    },
    {
      "cell_type": "code",
      "metadata": {
        "id": "GI0-dqMhFGl5"
      },
      "source": [
        "# p.238"
      ],
      "execution_count": 6,
      "outputs": []
    },
    {
      "cell_type": "code",
      "metadata": {
        "id": "6AvpWB6uGZGD",
        "outputId": "76dc9790-f159-4b5c-dc60-d6697cb2063e",
        "colab": {
          "base_uri": "https://localhost:8080/",
          "height": 129
        }
      },
      "source": [
        "n = int(input('n번째 줄 : '))\n",
        "\n",
        "if 1 <= n <= 100:\n",
        "  for i in range(1, n+1) :\n",
        "    print('*' * i)"
      ],
      "execution_count": 14,
      "outputs": [
        {
          "output_type": "stream",
          "text": [
            "n번째 줄 : 5\n",
            "*\n",
            "**\n",
            "***\n",
            "****\n",
            "*****\n"
          ],
          "name": "stdout"
        }
      ]
    },
    {
      "cell_type": "code",
      "metadata": {
        "id": "QYMER29aHOFS",
        "outputId": "0e091639-7981-412d-854e-7456e85ad849",
        "colab": {
          "base_uri": "https://localhost:8080/",
          "height": 269
        }
      },
      "source": [
        "while True:\n",
        "  a = int(input())\n",
        "\n",
        "  lists = []\n",
        "\n",
        "  if a == 0:\n",
        "    break\n",
        "  else:\n",
        "    while a != 0:\n",
        "      b = a % 10\n",
        "      lists.append(b)\n",
        "      a = int(a / 10)\n",
        "      counts = counts + 1\n",
        "\n",
        "    # print(lists)\n",
        "\n",
        "    for i in range(0, int(counts/2), 1):\n",
        "      if list[i] != lists[couts-i-1]:\n",
        "        SW = 1\n",
        "        print(\"No\")\n",
        "        break\n"
      ],
      "execution_count": 19,
      "outputs": [
        {
          "output_type": "stream",
          "text": [
            "12321\n"
          ],
          "name": "stdout"
        },
        {
          "output_type": "error",
          "ename": "NameError",
          "evalue": "ignored",
          "traceback": [
            "\u001b[0;31m---------------------------------------------------------------------------\u001b[0m",
            "\u001b[0;31mNameError\u001b[0m                                 Traceback (most recent call last)",
            "\u001b[0;32m<ipython-input-19-0ee8b547ecc0>\u001b[0m in \u001b[0;36m<module>\u001b[0;34m()\u001b[0m\n\u001b[1;32m      9\u001b[0m     \u001b[0mis_palindrome\u001b[0m \u001b[0;34m=\u001b[0m \u001b[0;34m'yes'\u001b[0m\u001b[0;34m\u001b[0m\u001b[0;34m\u001b[0m\u001b[0m\n\u001b[1;32m     10\u001b[0m     \u001b[0;32mfor\u001b[0m \u001b[0mi\u001b[0m \u001b[0;32min\u001b[0m \u001b[0mrange\u001b[0m\u001b[0;34m(\u001b[0m\u001b[0ma\u001b[0m \u001b[0;34m//\u001b[0m \u001b[0;36m2\u001b[0m\u001b[0;34m)\u001b[0m\u001b[0;34m:\u001b[0m\u001b[0;34m\u001b[0m\u001b[0;34m\u001b[0m\u001b[0m\n\u001b[0;32m---> 11\u001b[0;31m       \u001b[0;32mif\u001b[0m \u001b[0mnumber\u001b[0m\u001b[0;34m[\u001b[0m\u001b[0mi\u001b[0m\u001b[0;34m]\u001b[0m \u001b[0;34m!=\u001b[0m \u001b[0mnumber\u001b[0m\u001b[0;34m[\u001b[0m\u001b[0;34m-\u001b[0m\u001b[0;36m1\u001b[0m \u001b[0;34m-\u001b[0m \u001b[0mi\u001b[0m\u001b[0;34m]\u001b[0m\u001b[0;34m:\u001b[0m\u001b[0;34m\u001b[0m\u001b[0;34m\u001b[0m\u001b[0m\n\u001b[0m\u001b[1;32m     12\u001b[0m         \u001b[0mis_palindrome\u001b[0m \u001b[0;34m=\u001b[0m \u001b[0;34m'no'\u001b[0m\u001b[0;34m\u001b[0m\u001b[0;34m\u001b[0m\u001b[0m\n\u001b[1;32m     13\u001b[0m         \u001b[0;32mbreak\u001b[0m\u001b[0;34m\u001b[0m\u001b[0;34m\u001b[0m\u001b[0m\n",
            "\u001b[0;31mNameError\u001b[0m: name 'number' is not defined"
          ]
        }
      ]
    },
    {
      "cell_type": "code",
      "metadata": {
        "id": "myVEZCkMJruu",
        "outputId": "ba1ad01d-ac69-40a4-d430-4bf1a24ca2b2",
        "colab": {
          "base_uri": "https://localhost:8080/",
          "height": 55
        }
      },
      "source": [
        "a = input('입력하세요 : ')\n",
        " \n",
        "is_palindrome = '1'\n",
        "for i in range(len(a) // 2):\n",
        "    if a[i] != a[-1 - i]:\n",
        "        is_palindrome = '0'\n",
        "        break\n",
        "\n",
        "print(is_palindrome)    "
      ],
      "execution_count": 22,
      "outputs": [
        {
          "output_type": "stream",
          "text": [
            "입력하세요 : level\n",
            "1\n"
          ],
          "name": "stdout"
        }
      ]
    },
    {
      "cell_type": "code",
      "metadata": {
        "id": "8WSroNjMOjrv"
      },
      "source": [
        "# 백준 10988 팰린드롬인지 확인하기\n",
        "a = input() # input() 는 str 타입을 반환합니다.\n",
        "\n",
        "# if a[0] == a[4] and a[1] == a[3] and a[2] == a[2]:\n",
        "# i는 0부터 len(a) / 2 - 1까지 for문 안에서 반복됨\n",
        "# i = 0, 1, 2, ..., len(a) / 2 - 1\n",
        "\n",
        "# 입력값이 level일 경우 \n",
        "# len(a) = 5            (길이는 5)\n",
        "# len(a) / 2 = 2.5      (5를 2로 나누면 2.5)\n",
        "# int(len(a) / 2) = 2   (2.5를 int형으로 만들면 2)\n",
        "\n",
        "# 전체 길이\n",
        "sizes = int(len(a)/2) # sizes는 2 \n",
        "\n",
        "sw = 0\n",
        "for i in range(0, sizes, 1):\n",
        "  # (맨 앞 자리 + i자리) 수 != (맨 뒷자리 - i자리) 수\n",
        "  if a[i] != a[len(a)-1-i]: # i = 0 일때, a[0] == a[4], i = 1일때, a[1] == a[3]\n",
        "    # 다르면 팰린드롬이 아니다.\n",
        "    print(0)\n",
        "    sw = 1\n",
        "    break\n",
        "\n",
        "if sw == 0:\n",
        "  print(1)"
      ],
      "execution_count": null,
      "outputs": []
    },
    {
      "cell_type": "code",
      "metadata": {
        "id": "KwswwY2bTRNq"
      },
      "source": [
        "# 함수 사용해보기\n",
        "\n",
        "def solve(a):\n",
        "  sum = 0;\n",
        "  for i in a:\n",
        "    sum += i\n",
        "    return sum"
      ],
      "execution_count": 34,
      "outputs": []
    },
    {
      "cell_type": "code",
      "metadata": {
        "id": "JAQioci3TzBM"
      },
      "source": [
        "# 함수를 맨 처음에 생성(선언/정의)할 때는 def를 쓴다. (def = definition)\n",
        "def solve(lists): # lists : 매개 변수\n",
        "  sum = 0;\n",
        "  for i in lists:\n",
        "    sum += i\n",
        "\n",
        "  return sum"
      ],
      "execution_count": 35,
      "outputs": []
    },
    {
      "cell_type": "code",
      "metadata": {
        "id": "A-plgxgdTnry",
        "outputId": "61e1754a-bb52-4e05-dbe1-8b2944a4c0ac",
        "colab": {
          "base_uri": "https://localhost:8080/",
          "height": 36
        }
      },
      "source": [
        "# 함수를 사용해보자\n",
        "\n",
        "lists = [1, 2, 3, 4, 5]\n",
        "print(solve(lists))"
      ],
      "execution_count": 36,
      "outputs": [
        {
          "output_type": "stream",
          "text": [
            "15\n"
          ],
          "name": "stdout"
        }
      ]
    },
    {
      "cell_type": "code",
      "metadata": {
        "id": "V-UEHXQDTrjo",
        "outputId": "7b1d10bb-b934-4008-a6f0-0f14b59cc3f3",
        "colab": {
          "base_uri": "https://localhost:8080/",
          "height": 465
        }
      },
      "source": [
        "a = int(input())\n",
        "b = int(input())\n",
        "c = int(input())\n",
        "\n",
        "d = a * b * c\n",
        "\n",
        "lists = [0, 0, 0, 0, 0, 0, 0, 0, 0, 0]\n",
        "\n",
        "d_str = str(d) # 정수 d를 문자열 D_str로.\n",
        "\n",
        "print(d_str)\n",
        "for i in range(0, len(d_str)):\n",
        "  e = int(d_str[i])\n",
        "  print(e)\n",
        "  lists[e] = lists[e] + 1\n",
        "\n",
        "print(lists)\n",
        "\n",
        "for i in lists:\n",
        "  print(i)\n"
      ],
      "execution_count": 42,
      "outputs": [
        {
          "output_type": "stream",
          "text": [
            "978\n",
            "234\n",
            "576\n",
            "131818752\n",
            "1\n",
            "3\n",
            "1\n",
            "8\n",
            "1\n",
            "8\n",
            "7\n",
            "5\n",
            "2\n",
            "[0, 3, 1, 1, 0, 1, 0, 1, 2, 0]\n",
            "0\n",
            "3\n",
            "1\n",
            "1\n",
            "0\n",
            "1\n",
            "0\n",
            "1\n",
            "2\n",
            "0\n"
          ],
          "name": "stdout"
        }
      ]
    },
    {
      "cell_type": "code",
      "metadata": {
        "id": "UrmeHxLwaKNq"
      },
      "source": [
        ""
      ],
      "execution_count": null,
      "outputs": []
    }
  ]
}